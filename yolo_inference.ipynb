{
 "cells": [
  {
   "cell_type": "code",
   "execution_count": 1,
   "metadata": {},
   "outputs": [
    {
     "name": "stdout",
     "output_type": "stream",
     "text": [
      "2.0.0+cpu\n"
     ]
    }
   ],
   "source": [
    "\n",
    "import torch\n",
    "print(torch.__version__)\n",
    "# print(torch.cuda.is_available())  # Should return True if GPU is available\n",
    "# print(torch.cuda.current_device())  # Should return the index of the current GPU device\n",
    "# print(torch.cuda.get_device_name(torch.cuda.current_device()))  # Should return the name of your GPU"
   ]
  },
  {
   "cell_type": "code",
   "execution_count": null,
   "metadata": {},
   "outputs": [],
   "source": [
    "from ultralytics import YOLO \n",
    "\n",
    "model = YOLO('yolov8n')\n",
    "\n",
    "results = model.predict('input/08fd33_5.mp4',save=True)\n",
    "print(results[0])\n",
    "print('=====================================')\n",
    "for box in results[0].boxes:\n",
    "    print(box)"
   ]
  }
 ],
 "metadata": {
  "kernelspec": {
   "display_name": "Python 3",
   "language": "python",
   "name": "python3"
  },
  "language_info": {
   "codemirror_mode": {
    "name": "ipython",
    "version": 3
   },
   "file_extension": ".py",
   "mimetype": "text/x-python",
   "name": "python",
   "nbconvert_exporter": "python",
   "pygments_lexer": "ipython3",
   "version": "3.11.0"
  }
 },
 "nbformat": 4,
 "nbformat_minor": 2
}
